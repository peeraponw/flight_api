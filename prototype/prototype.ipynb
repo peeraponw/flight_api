{
 "cells": [
  {
   "cell_type": "code",
   "execution_count": 2,
   "metadata": {},
   "outputs": [],
   "source": [
    "import requests\n",
    "import scrapy"
   ]
  }
 ],
 "metadata": {
  "kernelspec": {
   "display_name": "flight_api",
   "language": "python",
   "name": "python3"
  },
  "language_info": {
   "codemirror_mode": {
    "name": "ipython",
    "version": 3
   },
   "file_extension": ".py",
   "mimetype": "text/x-python",
   "name": "python",
   "nbconvert_exporter": "python",
   "pygments_lexer": "ipython3",
   "version": "3.11.0"
  },
  "orig_nbformat": 4,
  "vscode": {
   "interpreter": {
    "hash": "4d6758ff3bd8dcea9ea63db1f0529ef187b8f4adf28317e2317bfb2fafeeb591"
   }
  }
 },
 "nbformat": 4,
 "nbformat_minor": 2
}
